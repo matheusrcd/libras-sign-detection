{
 "cells": [
  {
   "cell_type": "code",
   "execution_count": null,
   "metadata": {
    "scrolled": false
   },
   "outputs": [],
   "source": [
    "!pip install tensorflow==2.5.0 tensorflow-gpu==2.5.0 opencv-python mediapipe sklearn matplotlib"
   ]
  },
  {
   "cell_type": "code",
   "execution_count": null,
   "metadata": {
    "scrolled": true
   },
   "outputs": [],
   "source": [
    "import cv2\n",
    "import numpy as np\n",
    "import os\n",
    "from matplotlib import pyplot as plt\n",
    "import time\n",
    "import mediapipe as mp"
   ]
  },
  {
   "cell_type": "code",
   "execution_count": null,
   "metadata": {},
   "outputs": [],
   "source": [
    "#MediaPipe solutions - reconhecimento e desenho dos pontos na mão\n",
    "mp_holistic = mp.solutions.holistic\n",
    "mp_drawing = mp.solutions.drawing_utils"
   ]
  },
  {
   "cell_type": "code",
   "execution_count": null,
   "metadata": {},
   "outputs": [],
   "source": [
    "def mediapipe_detection(image, model):\n",
    "    \"\"\" \n",
    "    Funcao com objetivo de aplicar a previsao de reconhecimento na imagem desejada \n",
    "    Recebe imagem (frame da webcam) e um modelo que sera responsavel pela previsão\n",
    "    Retorna o frame utilizado e a previsao feita pelo modelo\n",
    "    A conversao da imagem se faz necessaria para ser tratada pelo modelo (BGR -> RGB)\n",
    "    A mudanca na propriedade de leitura tem como objetivo salvar memoria\n",
    "    \"\"\"\n",
    "    image = cv2.cvtColor(image, cv2.COLOR_BGR2RGB)\n",
    "    image.flags.writeable = False\n",
    "    results = model.process(image)\n",
    "    image.flags.writeable = True\n",
    "    image = cv2.cvtColor(image, cv2.COLOR_RGB2BGR)\n",
    "    return image, results"
   ]
  },
  {
   "cell_type": "code",
   "execution_count": null,
   "metadata": {},
   "outputs": [],
   "source": [
    "def draw_landmarks(image, results):\n",
    "    \"\"\"\n",
    "    Funcao que recebe uma imagem (frame) junto com as previsoes feitas pelo modelo e aplica\n",
    "    sob a imagem o desenho dos pontos necessarios (nao ha motivo para devolver a imagem pois ela\n",
    "    ja e alterada diretamente).\n",
    "    \"\"\"\n",
    "    mp_drawing.draw_landmarks(image, results.face_landmarks, mp_holistic.FACE_CONNECTIONS,\n",
    "                             mp_drawing.DrawingSpec(color=(80,110,10), thickness=1, circle_radius=1), \n",
    "                             mp_drawing.DrawingSpec(color=(80,256,121), thickness=1, circle_radius=1)\n",
    "                             )\n",
    "    mp_drawing.draw_landmarks(image, results.pose_landmarks, mp_holistic.POSE_CONNECTIONS,\n",
    "                             mp_drawing.DrawingSpec(color=(80,22,10), thickness=2, circle_radius=4), \n",
    "                             mp_drawing.DrawingSpec(color=(80,44,121), thickness=2, circle_radius=2)\n",
    "                             )\n",
    "    mp_drawing.draw_landmarks(image, results.left_hand_landmarks, mp_holistic.HAND_CONNECTIONS,\n",
    "                             mp_drawing.DrawingSpec(color=(121,22,76), thickness=2, circle_radius=4), \n",
    "                             mp_drawing.DrawingSpec(color=(121,44,250), thickness=2, circle_radius=2)\n",
    "                             )\n",
    "    mp_drawing.draw_landmarks(image, results.right_hand_landmarks, mp_holistic.HAND_CONNECTIONS,\n",
    "                             mp_drawing.DrawingSpec(color=(245,117,66), thickness=2, circle_radius=4), \n",
    "                             mp_drawing.DrawingSpec(color=(245,66,230), thickness=2, circle_radius=2)\n",
    "                             )"
   ]
  },
  {
   "cell_type": "code",
   "execution_count": null,
   "metadata": {},
   "outputs": [],
   "source": [
    "#Acessa a webcam - valor (0) representa o hardware\n",
    "cap = cv2.VideoCapture(0)\n",
    "\n",
    "#Define o modelo utilizado\n",
    "with mp_holistic.Holistic(min_detection_confidence=0.5, min_tracking_confidence=0.5) as holistic:\n",
    "    while cap.isOpened():\n",
    "\n",
    "        #Seleciona o frame atual da webcam\n",
    "        ret, frame = cap.read()\n",
    "\n",
    "        #Processa previsoes\n",
    "        image, results = mediapipe_detection(frame, holistic)\n",
    "        print(results)\n",
    "        \n",
    "        #Desenha os pontos\n",
    "        draw_landmarks(image, results)\n",
    "        \n",
    "        #Faz o display do frame\n",
    "        if ret == True: \n",
    "            cv2.imshow('Webcam', image)\n",
    "\n",
    "            #Encerra a webcam \n",
    "            if cv2.waitKey(10) & 0xFF == ord('q'):\n",
    "                break\n",
    "        else:\n",
    "            break\n",
    "    cap.release()\n",
    "    cv2.destroyAllWindows()"
   ]
  },
  {
   "cell_type": "code",
   "execution_count": null,
   "metadata": {},
   "outputs": [],
   "source": [
    "def extract_keypoints(results):\n",
    "    '''É preciso guardar todos os pontos lidos pelo modelo em um numpy array\n",
    "    Este array pose, por exemplo, armazena 33 numpy arrays que guardam, cada um, um ponto\n",
    "    lido pelo modelo (com 3 coordenadas e visibility). Representando um único frame\n",
    "    Depois o array é tratado de forma a transformá-lo num único array com todos os pontos.\n",
    "    É retornado um array que junta todos os pontos lidos pela câmera.'''\n",
    "    if results.pose_landmarks:      #Verifica se apareceu na câmera uma pessoa (array não vazio)\n",
    "        pose = []\n",
    "        for res in results.pose_landmarks.landmark:\n",
    "            test = np.array([res.x, res.y, res.z, res.visibility])\n",
    "            pose.append(test)\n",
    "\n",
    "        pose.flatten()              #Trata os dados de forma a deixá-los todos em um único array de 33 vezes 4 = 132\n",
    "    else:                           #Caso esteja vazio, cria um numpy array com zeros\n",
    "        pose = np.zeros(132) \n",
    "        \n",
    "    if results.lefthand_landmarks:  #Verifica se apareceu na câmera a mão esquerda (array não vazio)\n",
    "        lefthand = []\n",
    "        for res in results.lefthand_landmarks.landmark:\n",
    "            test = np.array([res.x, res.y, res.z])\n",
    "            lefthand.append(test)\n",
    "\n",
    "        lefthand.flatten()          #Trata os dados de forma a deixá-los todos em um único array de 21 vezes 3 = 63\n",
    "    else:                           #Caso esteja vazio, cria um numpy array com zeros\n",
    "        lefthand = np.zeros(63) \n",
    "\n",
    "    if results.righthand_landmarks:  #Verifica se apareceu na câmera a mão direita (array não vazio)\n",
    "        righthand = []\n",
    "        for res in results.righthand_landmarks.landmark:\n",
    "            test = np.array([res.x, res.y, res.z])\n",
    "            righthand.append(test)\n",
    "\n",
    "        righthand.flatten()         #Trata os dados de forma a deixá-los todos em um único array de 21 vezes 3 = 63\n",
    "    else:                           #Caso esteja vazio, cria um numpy array com zeros\n",
    "        righthand = np.zeros(63) \n",
    "\n",
    "    if results.face_landmarks:     #Verifica se apareceu na câmera a mão direita (array não vazio)\n",
    "        face = []\n",
    "        for res in results.face_landmarks.landmark:\n",
    "            test = np.array([res.x, res.y, res.z])\n",
    "            face.append(test)\n",
    "\n",
    "        face.flatten()              #Trata os dados de forma a deixá-los todos em um único array de 468 vezes 3 = 1404\n",
    "    else:                           #Caso esteja vazio, cria um numpy array com zeros\n",
    "        face = np.zeros(1404) \n",
    "    \n",
    "    return np.concatenate([pose, face, lefthand, righthand]) #Concatenação de todos pontos"
   ]
  },
  {
   "cell_type": "code",
   "execution_count": null,
   "metadata": {},
   "outputs": [],
   "source": [
    "# Caminho que guarda o numpy array com os pontos extraidos\n",
    "DATA_PATH = os.path.join('MP_Data')\n",
    "\n",
    "# Sinais que serão detectados\n",
    "actions = np.array(['ola', 'obrigado', 'teamo'])\n",
    "\n",
    "# Representa a quantidade de sequências de frames que tem os dados\n",
    "no_sequences = 30\n",
    "\n",
    "# Representa a quantidade de frames que cada sequência possui\n",
    "sequence_lenght = 30"
   ]
  },
  {
   "cell_type": "code",
   "execution_count": null,
   "metadata": {},
   "outputs": [],
   "source": [
    "# Cria pastas para cada sinal definido\n",
    "# Cada pasta tem 30 pastas representando os videos modelo do sinal\n",
    "# Cada vídeo contém 30 frames e cada frame 1662 pontos extraidos\n",
    "for action in actions:\n",
    "    for sequence in range(no_sequences):\n",
    "        try: # Cria pastas e subpastas\n",
    "            os.makedirs(os.path.join(DATA_PATH, action, str(sequence)))\n",
    "        except: # Caso já exista passa para próxima pasta\n",
    "            pass"
   ]
  },
  {
   "cell_type": "code",
   "execution_count": null,
   "metadata": {},
   "outputs": [],
   "source": [
    "#Acessa a webcam - valor (0) representa o hardware\n",
    "cap = cv2.VideoCapture(0)\n",
    "\n",
    "#Define o modelo utilizado\n",
    "with mp_holistic.Holistic(min_detection_confidence=0.5, min_tracking_confidence=0.5) as holistic:\n",
    "    \n",
    "    # Extrai os frames de cada video para cada ação\n",
    "    for action in actions:\n",
    "        for sequence in range(no_sequences):\n",
    "            for frame_num in range(sequence_lenght):\n",
    "\n",
    "                #Seleciona o frame atual da webcam\n",
    "                ret, frame = cap.read()\n",
    "\n",
    "                #Processa previsoes\n",
    "                image, results = mediapipe_detection(frame, holistic)\n",
    "                print(results)\n",
    "\n",
    "                #Desenha os pontos\n",
    "                draw_landmarks(image, results)\n",
    "                \n",
    "                # Interface e espera ao começar gravações\n",
    "                if frame_num == 0:\n",
    "                    \n",
    "                    #Textos para indicar inicio de gravação\n",
    "                    cv2.putText(image, \"INICIANDO GRAVAÇÃO DE SINAL\", \n",
    "                    (120, 200), cv2.FONT_HERSHEY_SIMPLEX, 1, (0, 255, 0), 4, cv2.LINE_AA)\n",
    "                    \n",
    "                    cv2.putText(image, \"Gravando para {} Video: {}\".format(action, sequence), \n",
    "                    (15, 12), cv2.FONT_HERSHEY_SIMPLEX, 0.5, (0, 0, 255), 1, cv2.LINE_AA)\n",
    "                    \n",
    "                    # Tempo de espera entre um vídeo e outro\n",
    "                    cv2.waitKey(1500)\n",
    "                else:\n",
    "                    cv2.putText(image, \"Gravando para {} Video: {} Frame: {}\".format(action, sequence, frame_num), \n",
    "                    (15, 12), cv2.FONT_HERSHEY_SIMPLEX, 0.5, (0, 0, 255), 1, cv2.LINE_AA)\n",
    "                \n",
    "                # Extrai os pontos de um frame e salva como um arquivo .npy (numpy array)\n",
    "                keypoints = extract_keypoints(results)\n",
    "                npy_path = os.path.join(DATA_PATH, action, str(sequence), str(frame_num))\n",
    "                np.save(npy_path, keypoints)\n",
    "                \n",
    "                #Faz o display do frame\n",
    "                if ret == True: \n",
    "                    cv2.imshow('Webcam', image)\n",
    "\n",
    "                    #Encerra a webcam \n",
    "                    if cv2.waitKey(10) & 0xFF == ord('q'):\n",
    "                        break\n",
    "                else:\n",
    "                    break\n",
    "    cap.release()\n",
    "    cv2.destroyAllWindows()"
   ]
  },
  {
   "cell_type": "code",
   "execution_count": null,
   "metadata": {},
   "outputs": [],
   "source": [
    "# Imports que serão importante para treinar o modelo e nomear os dados\n",
    "from sklearn.model_selection import train_test_split\n",
    "from tensorflow.keras.utils import to_categorical"
   ]
  },
  {
   "cell_type": "code",
   "execution_count": null,
   "metadata": {},
   "outputs": [],
   "source": [
    "label_map = {label:num for num, label in enumerate(actions)}\n",
    "sequences, labels = [], []\n",
    "\n",
    "# Carrega e adiciona todos os pontos de uma sequência no array sequences\n",
    "# Enquanto o array labels coloca em ordem o valor de determinada ação com certa sequencia\n",
    "for action in actions:\n",
    "    for sequence in range(no_sequence):\n",
    "        window = []\n",
    "        for frame_num in range(sequence_lenght):\n",
    "            res = np.load(os.path.join(DATA_PATH, action, str(sequence),'{}.npy'.format(frame_num)))\n",
    "            window.append(res)\n",
    "        sequences.append(window)\n",
    "        labels.append(label_map[action])\n",
    "    \n",
    "    matrix_labels = to_categorical(labels).astype(int)\n",
    "    \n",
    "    # Com os dados já definidos é possível separar uma quantidade para teste e treinamento do modelo\n",
    "    x_train, x_test, y_train, y_test = train_test_split(np.array(sequences), matrix_labels, test_size=0.05)"
   ]
  },
  {
   "cell_type": "code",
   "execution_count": null,
   "metadata": {},
   "outputs": [],
   "source": [
    "# Imports para construção da rede neural\n",
    "from tensorflow.keras.models import Sequential\n",
    "from tensorflow.keras.layers import LSTM, Dense\n",
    "from tensorflow.keras.callbacks import TensorBoard"
   ]
  },
  {
   "cell_type": "code",
   "execution_count": null,
   "metadata": {},
   "outputs": [],
   "source": [
    "# Definição do caminho para registro de logs da rede\n",
    "log_dir = os.path.join('Logs')\n",
    "tb_callback = TensorBoard(log_dir=log_dir)"
   ]
  },
  {
   "cell_type": "code",
   "execution_count": null,
   "metadata": {},
   "outputs": [],
   "source": [
    "# Setup da rede neural\n",
    "model = Sequential()\n",
    "\n",
    "# Cada função add adiciona uma layer para a rede\n",
    "# O parâmetro return_sequences é importante para passar para próxima layer de forma ordenada\n",
    "# O parâmetro activation define a função que será utilizada para ativar os neurônios\n",
    "#  O parâmetro input_shape = 30 frames cada um com 1662 pontos reconhecidos\n",
    "model.add(LSTM(64, return_sequences=True, activation='relu', input_shape=(30,1662))) \n",
    "model.add(LSTM(128, return_sequences=True, activation='relu'))\n",
    "model.add(LSTM(64, return_sequences=False, activation='relu'))\n",
    "model.add(Dense(64, activation='relu'))\n",
    "model.add(Dense(32, activation='relu'))\n",
    "\n",
    "# Última camada possui a quantidades de pontos definido pela quantidade de ações\n",
    "# A função softmax entrega um resultado com a probabilidade de cada ação (será selecionado a com maior probabilidade)\n",
    "model.add(Dense(actions.shape[0], activation='softmax'))"
   ]
  },
  {
   "cell_type": "code",
   "execution_count": null,
   "metadata": {},
   "outputs": [],
   "source": [
    "model.compile(optimizer='Adam', loss='categorical_crossentropy', metrics=['categorical_accuracy'])"
   ]
  },
  {
   "cell_type": "code",
   "execution_count": null,
   "metadata": {},
   "outputs": [],
   "source": [
    "model.fit(x_train, y_train, epochs=150, callbacks=[tb_callback])"
   ]
  },
  {
   "cell_type": "code",
   "execution_count": null,
   "metadata": {},
   "outputs": [],
   "source": [
    "model.summary()"
   ]
  }
 ],
 "metadata": {
  "kernelspec": {
   "display_name": "Python 3 (ipykernel)",
   "language": "python",
   "name": "python3"
  },
  "language_info": {
   "codemirror_mode": {
    "name": "ipython",
    "version": 3
   },
   "file_extension": ".py",
   "mimetype": "text/x-python",
   "name": "python",
   "nbconvert_exporter": "python",
   "pygments_lexer": "ipython3",
   "version": "3.9.1"
  },
  "vscode": {
   "interpreter": {
    "hash": "81794d4967e6c3204c66dcd87b604927b115b27c00565d3d43f05ba2f3a2cb0d"
   }
  }
 },
 "nbformat": 4,
 "nbformat_minor": 2
}
